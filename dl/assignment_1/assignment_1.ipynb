{
 "cells": [
  {
   "cell_type": "markdown",
   "metadata": {},
   "source": [
    "# <center> Neural Networks and Deep Learning (CSCI 5922)</center>\n",
    "# <center> Spring 2019 </center>"
   ]
  },
  {
   "cell_type": "markdown",
   "metadata": {},
   "source": [
    "**Name:** Shafiuddin Rehan Ahmed"
   ]
  },
  {
   "cell_type": "markdown",
   "metadata": {},
   "source": [
    "## Goal"
   ]
  },
  {
   "cell_type": "markdown",
   "metadata": {},
   "source": [
    "The goal of this assignment is to introduce neural networks in terms of ideas you are already familiar with:  linear regression and linear-threshold classification"
   ]
  },
  {
   "cell_type": "markdown",
   "metadata": {},
   "source": [
    "## Dataset"
   ]
  },
  {
   "cell_type": "markdown",
   "metadata": {},
   "source": [
    "You are given a dataset with 2 input variables ($x_1$, $x_2$) and an output variable ($y$)."
   ]
  },
  {
   "cell_type": "code",
   "execution_count": 81,
   "metadata": {
    "scrolled": true
   },
   "outputs": [],
   "source": [
    "from sklearn.datasets import make_regression\n",
    "from matplotlib import pyplot\n",
    "import numpy as np\n",
    "import os\n",
    "from sklearn.linear_model import LinearRegression"
   ]
  },
  {
   "cell_type": "code",
   "execution_count": 56,
   "metadata": {},
   "outputs": [],
   "source": [
    "np.random.seed(42)\n",
    "# Load data\n",
    "data = np.loadtxt(os.path.join('data', 'assign1_data.txt'))\n",
    "X = data[:,:2]\n",
    "y = data[:, 2].reshape((-1,1))\n",
    "z = data[:, 3].reshape((-1,1))"
   ]
  },
  {
   "cell_type": "code",
   "execution_count": 57,
   "metadata": {},
   "outputs": [
    {
     "name": "stdout",
     "output_type": "stream",
     "text": [
      "(100, 2)\n",
      "(100, 1)\n",
      "(100, 1)\n"
     ]
    }
   ],
   "source": [
    "print(X.shape)\n",
    "print(y.shape)\n",
    "print(z.shape)"
   ]
  },
  {
   "cell_type": "markdown",
   "metadata": {},
   "source": [
    "## Part 1"
   ]
  },
  {
   "cell_type": "markdown",
   "metadata": {},
   "source": [
    "Write a program to find the least squares solution to $y = w_1 x_1 + w_2 x_2 + b$ for the above dataset. "
   ]
  },
  {
   "cell_type": "markdown",
   "metadata": {},
   "source": [
    "Complete the following function below and use it to answer questions (A) and (B). \n",
    "\n",
    "**Note:** Please do not change the interface of the given function."
   ]
  },
  {
   "cell_type": "code",
   "execution_count": 273,
   "metadata": {},
   "outputs": [],
   "source": [
    "def lms_error(W, X, y):\n",
    "    return np.sum(((X.dot(W.T)) - y)**2, axis=0)\n",
    "\n",
    "def gradient(W, X, y):\n",
    "    \"\"\"\n",
    "    Return the gradient\n",
    "    W : Weight vector\n",
    "    X : input\n",
    "    y : output\n",
    "    returns: Delta W\n",
    "    \"\"\"\n",
    "    return 2*(X.dot(W.T) - y).T.dot(X)\n",
    "\n",
    "def gd_step(W, X, y, eta):\n",
    "    \"\"\"\n",
    "    Update Weight vector and return it\n",
    "    \"\"\"\n",
    "    return W - eta*gradient(W, X, y)\n",
    "\n",
    "def stocastic_gd(X, y, eta=0.01, batch_size=1, iters=1000):\n",
    "    n = X.shape[0]\n",
    "    m = X.shape[1]\n",
    "    W = np.zeros((1, m+1)) # include b in W\n",
    "    X_oned = np.hstack((X, np.ones((n,1))))\n",
    "    for iter_ in range(iters):\n",
    "        for i in range(0, n, batch_size):\n",
    "            x_batch = X_oned[i:i+batch_size,:]\n",
    "            y_batch = y[i:i+batch_size, :]\n",
    "            W = gd_step(W, x_batch, y_batch, eta)\n",
    "#             print(lms_error(W, X_oned, y))\n",
    "    return W\n",
    "\n",
    "def lms(X, y):\n",
    "    \"\"\"\n",
    "    Finds the Least Mean Squares solution\n",
    "    \n",
    "    Parameters\n",
    "    ----------\n",
    "    X : NumPy array of features (size : no of examples X features)\n",
    "    y : Numpy array of output value 'y' (size : no of examples X 1)\n",
    "    \n",
    "    Returns\n",
    "    -------\n",
    "    w : solution array\n",
    "    \"\"\"\n",
    "    n = X.shape[0]\n",
    "    m = X.shape[1]\n",
    "    W = np.zeros((1, m+1)) # include b in W\n",
    "    X_oned = np.hstack((X, np.ones((n,1))))\n",
    "    w = np.linalg.lstsq(X_oned, y, rcond=None)\n",
    "#     w = stocastic_gd(X, y)\n",
    "    return w[0].T"
   ]
  },
  {
   "cell_type": "code",
   "execution_count": 274,
   "metadata": {
    "scrolled": true
   },
   "outputs": [
    {
     "name": "stdout",
     "output_type": "stream",
     "text": [
      "[[-2.0442426   3.99686017 -0.92429081]]\n"
     ]
    }
   ],
   "source": [
    "W_final = lms(X,y)\n",
    "final_error = 145.256670\n",
    "print(W_final)"
   ]
  },
  {
   "cell_type": "markdown",
   "metadata": {},
   "source": [
    "(A) Report the values of $w_1$, $w_2$, and $b$."
   ]
  },
  {
   "cell_type": "markdown",
   "metadata": {},
   "source": [
    "$w_1 = -2.044$\n",
    "\n",
    "$w_2 = 3.997$\n",
    "\n",
    "$b = -0.924$"
   ]
  },
  {
   "cell_type": "markdown",
   "metadata": {},
   "source": [
    "(B) What function or method did you use to find the least-squares solution?"
   ]
  },
  {
   "cell_type": "markdown",
   "metadata": {},
   "source": [
    "numpy.linalg.lstsq:\n",
    "\n",
    "\"Solves the equation a x = b by computing a vector x that minimizes the Euclidean 2-norm || b - a x ||^2.\"\n",
    "\n",
    "https://docs.scipy.org/doc/numpy-1.15.0/reference/generated/numpy.linalg.lstsq.html"
   ]
  },
  {
   "cell_type": "markdown",
   "metadata": {},
   "source": [
    "## Part 2"
   ]
  },
  {
   "cell_type": "markdown",
   "metadata": {},
   "source": [
    "Using the LMS algorithm, write a program that determines the coefficients {w1,w2,b} via incremental updating, steepest descent, and multiple passes through the training data. You will need to experiment with updating rules (online, batch, minibatch), step sizes (i.e., learning rates), stopping criteria, etc. Experiment to find settings that lead to solutions with the fewest number of sweeps through the data."
   ]
  },
  {
   "cell_type": "markdown",
   "metadata": {},
   "source": [
    "Complete the following functions below and use them to answer questions (A), (B) and (C). You may find the shuffle function from scikit-learn useful. \n",
    "\n",
    "Use the following hyperparameters:\n",
    "\n",
    "Learning rates = [0.001, 0.05, 0.01, 0.05, 0.1, 0.3]\n",
    "\n",
    "MaxIter = [10, 50, 100, 500, 1000, 5000, 10000, 25000, 50000]\n",
    "\n",
    "**Note:** Please do not change the interface of the given functions."
   ]
  },
  {
   "cell_type": "code",
   "execution_count": 381,
   "metadata": {},
   "outputs": [],
   "source": [
    "from sklearn.utils import shuffle\n",
    "alphas = [0.001, 0.05, 0.01, 0.05, 0.1, 0.3]\n",
    "maxiters = [10, 50, 100, 500, 1000, 5000, 10000, 25000, 50000]\n",
    "\n",
    "def gd_step(W, X, y, eta):\n",
    "    \"\"\"\n",
    "    Update Weight vector and return it\n",
    "    \"\"\"\n",
    "    return W - eta*gradient(W, X, y)\n",
    "\n",
    "def stocastic_gd(W, X, y, eta=0.01, batch_size=16):\n",
    "    n = X.shape[0]\n",
    "    for i in range(0, n, batch_size):\n",
    "        x_batch = X[i:i+batch_size,:]\n",
    "        y_batch = y[i:i+batch_size, :]\n",
    "        W = gd_step(W, x_batch, y_batch, eta)\n",
    "    return W\n",
    "\n",
    "def gradient(W, X, y):\n",
    "    \"\"\"\n",
    "    Return the gradient\n",
    "    W : Weight vector\n",
    "    X : input\n",
    "    y : output\n",
    "    returns: Delta W\n",
    "    \"\"\"\n",
    "    return 2*(X.dot(W.T) - y).T.dot(X)/X.shape[0]\n",
    "\n",
    "def online_update(X, y, w, eta, batch_size=1):\n",
    "    \"\"\"\n",
    "    One iteration of the online update over the entire dataset (one sweep of the dataset).\n",
    "    \n",
    "    Parameters\n",
    "    ----------\n",
    "    X : NumPy array of features (size : no of examples X features)\n",
    "    y : Numpy array of class labels (size : no of examples X 1)\n",
    "    w : array of coefficients from the previous iteration\n",
    "    \n",
    "    Returns\n",
    "    -------\n",
    "    w : Coefficients of the classifier (after updating)\n",
    "    \"\"\"\n",
    "    return stocastic_gd(w, X, y, eta, 1)\n",
    "    \n",
    "\n",
    "def batch_update(X, y, w, eta, batch_size=n):\n",
    "    \"\"\"\n",
    "    One iteration of the batch update.\n",
    "    \n",
    "    Parameters\n",
    "    ----------\n",
    "    X : NumPy array of features (size : no of examples X features)\n",
    "    y : Numpy array of class labels (size : no of examples X 1)\n",
    "    w : array of coefficients from the previous iteration\n",
    "    \n",
    "    Returns\n",
    "    -------\n",
    "    w : Coefficients of the classifier (after updating)\n",
    "    \"\"\"\n",
    "    n = X.shape[0]\n",
    "    return stocastic_gd(w, X, y, eta, n)\n",
    "\n",
    "def mini_batch_update(X, y, w, eta, batch_size):\n",
    "    \"\"\"\n",
    "    One iteration of the mini-batch update over the entire dataset (one sweep of the dataset).\n",
    "    \n",
    "    Parameters\n",
    "    ----------\n",
    "    X : NumPy array of features (size : no of examples X features)\n",
    "    y : Numpy array of class labels (size : no of examples X 1)\n",
    "    w : array of coefficients from the previous iteration\n",
    "    batch_size : size of the batch for gradient update\n",
    "    \n",
    "    Returns\n",
    "    -------\n",
    "    w : Coefficients of the classifier (after updating)\n",
    "    \"\"\"\n",
    "    return stocastic_gd(w, X, y, eta, batch_size)\n",
    "\n",
    "def lms_grad_desc(X, y, maxIter, alpha, update, batch_size, stop_ratio = 0.01, force_stop = False, silent=False):\n",
    "    \"\"\"\n",
    "    Implements the LMS with gradient descent.\n",
    "    \n",
    "    Parameters\n",
    "    ----------\n",
    "    X : NumPy array of features (size : no of examples X features)\n",
    "    y : Numpy array of class labels (size : no of examples X 1)\n",
    "    maxIter : Maximum number of iterations allowed\n",
    "    alpha : Learning rate\n",
    "    update : update function to utilize (one of online, batch, mini-batch)\n",
    "    batch_size : number of examples in a batch (only useful when update = mini_batch_update)\n",
    "    \n",
    "    Returns\n",
    "    -------\n",
    "    w : Coefficients of the classifier (after updating)\n",
    "    \n",
    "    Note : *batch_size is an optional argument and only to be used when doing mini-batch Gradient Descent \n",
    "    \"\"\"\n",
    "    n = X.shape[0]\n",
    "    m = X.shape[1]\n",
    "    W = np.zeros((1, m+1)) # include b in W\n",
    "    X_oned = np.hstack((X, np.ones((n,1))))\n",
    "    errors = []\n",
    "    errors.append(lms_error(W, X_oned, y))\n",
    "    for iters in range(maxIter):\n",
    "        indices = shuffle(range(n))\n",
    "        X_shuf = X_oned[indices, :]\n",
    "        y_shuf = y[indices, :]\n",
    "        W = update(X_shuf, y_shuf, W, alpha, batch_size)\n",
    "        error_now = lms_error(W, X_oned, y)\n",
    "#         print (error_now)\n",
    "        if errors[-1] - error_now > 0 and np.abs(errors[-1] - error_now) < stop_ratio and force_stop:\n",
    "            break\n",
    "        errors.append(error_now)\n",
    "#         if np.linalg.norm(W_final - W) < 0.05 and force_stop:\n",
    "#             break\n",
    "    if not silent:\n",
    "        print(\"Total iters for alpha: %f batch_size: %d is %d\" % (alpha, batch_size, iters))\n",
    "        print(\"Error: %f\" %lms_error(W, X_oned, y))\n",
    "    return W, errors\n",
    "        "
   ]
  },
  {
   "cell_type": "markdown",
   "metadata": {},
   "source": [
    "(A) Report the values of $w_1$, $w_2$, and $b$. "
   ]
  },
  {
   "cell_type": "code",
   "execution_count": 340,
   "metadata": {},
   "outputs": [
    {
     "name": "stdout",
     "output_type": "stream",
     "text": [
      "Experimenting on online update vs batch_update\n",
      "-------------- Running experiments on online_update -------------\n",
      "Total iters for alpha: 0.001000 batch_size: 1 is 223\n",
      "Error: 4.312943\n",
      "Total iters for alpha: 0.050000 batch_size: 1 is 84\n",
      "Error: 3.944234\n",
      "Total iters for alpha: 0.010000 batch_size: 1 is 23\n",
      "Error: 4.252104\n",
      "Total iters for alpha: 0.050000 batch_size: 1 is 45\n",
      "Error: 3.944719\n",
      "Total iters for alpha: 0.100000 batch_size: 1 is 82\n",
      "Error: 3.960005\n",
      "Total iters for alpha: 0.300000 batch_size: 1 is 1187\n",
      "Error: 5.450189\n",
      "-------------- Running experiments on batch_update -------------\n",
      "Total iters for alpha: 0.001000 batch_size: 1 is 4922\n",
      "Error: 41.593793\n",
      "Total iters for alpha: 0.050000 batch_size: 1 is 393\n",
      "Error: 4.689383\n",
      "Total iters for alpha: 0.010000 batch_size: 1 is 1359\n",
      "Error: 7.722107\n",
      "Total iters for alpha: 0.050000 batch_size: 1 is 393\n",
      "Error: 4.689383\n",
      "Total iters for alpha: 0.100000 batch_size: 1 is 222\n",
      "Error: 4.311329\n",
      "Total iters for alpha: 0.300000 batch_size: 1 is 87\n",
      "Error: 4.055580\n"
     ]
    }
   ],
   "source": [
    "updates = [online_update, batch_update]\n",
    "max_iter = 10000\n",
    "print(\"Experimenting on online update vs batch_update\")\n",
    "for update in updates:\n",
    "    print(\"-------------- Running experiments on %s -------------\" %update.__name__)\n",
    "    for alpha in alphas:\n",
    "        w, _ = lms_grad_desc(X, y, max_iter, alpha, update, 1, force_stop=True) "
   ]
  },
  {
   "cell_type": "code",
   "execution_count": 328,
   "metadata": {},
   "outputs": [
    {
     "name": "stdout",
     "output_type": "stream",
     "text": [
      "Total iters for alpha: 0.001000 batch_size: 2 is 394\n",
      "Error: 4.689208\n",
      "Total iters for alpha: 0.050000 batch_size: 2 is 50\n",
      "Error: 3.947438\n",
      "Total iters for alpha: 0.010000 batch_size: 2 is 59\n",
      "Error: 3.998198\n",
      "Total iters for alpha: 0.050000 batch_size: 2 is 17\n",
      "Error: 4.007927\n",
      "Total iters for alpha: 0.100000 batch_size: 2 is 35\n",
      "Error: 4.009154\n",
      "Total iters for alpha: 0.300000 batch_size: 2 is 61\n",
      "Error: 4.013406\n",
      "Total iters for alpha: 0.001000 batch_size: 5 is 811\n",
      "Error: 5.828393\n",
      "Total iters for alpha: 0.050000 batch_size: 5 is 37\n",
      "Error: 3.947561\n",
      "Total iters for alpha: 0.010000 batch_size: 5 is 125\n",
      "Error: 4.117039\n",
      "Total iters for alpha: 0.050000 batch_size: 5 is 32\n",
      "Error: 3.961063\n",
      "Total iters for alpha: 0.100000 batch_size: 5 is 40\n",
      "Error: 3.968165\n",
      "Total iters for alpha: 0.300000 batch_size: 5 is 81\n",
      "Error: 3.943674\n",
      "Total iters for alpha: 0.001000 batch_size: 10 is 1360\n",
      "Error: 7.718243\n",
      "Total iters for alpha: 0.050000 batch_size: 10 is 55\n",
      "Error: 4.030951\n",
      "Total iters for alpha: 0.010000 batch_size: 10 is 223\n",
      "Error: 4.311575\n",
      "Total iters for alpha: 0.050000 batch_size: 10 is 56\n",
      "Error: 4.016750\n",
      "Total iters for alpha: 0.100000 batch_size: 10 is 35\n",
      "Error: 3.953672\n",
      "Total iters for alpha: 0.300000 batch_size: 10 is 58\n",
      "Error: 3.949083\n",
      "Total iters for alpha: 0.001000 batch_size: 15 is 1731\n",
      "Error: 9.524924\n",
      "Total iters for alpha: 0.050000 batch_size: 15 is 75\n",
      "Error: 4.054056\n",
      "Total iters for alpha: 0.010000 batch_size: 15 is 298\n",
      "Error: 4.489266\n",
      "Total iters for alpha: 0.050000 batch_size: 15 is 75\n",
      "Error: 4.067080\n",
      "Total iters for alpha: 0.100000 batch_size: 15 is 38\n",
      "Error: 4.054413\n",
      "Total iters for alpha: 0.300000 batch_size: 15 is 17\n",
      "Error: 3.958632\n",
      "Total iters for alpha: 0.001000 batch_size: 20 is 2196\n",
      "Error: 11.497577\n",
      "Total iters for alpha: 0.050000 batch_size: 20 is 102\n",
      "Error: 4.091927\n",
      "Total iters for alpha: 0.010000 batch_size: 20 is 393\n",
      "Error: 4.697200\n",
      "Total iters for alpha: 0.050000 batch_size: 20 is 102\n",
      "Error: 4.091070\n",
      "Total iters for alpha: 0.100000 batch_size: 20 is 53\n",
      "Error: 4.057979\n",
      "Total iters for alpha: 0.300000 batch_size: 20 is 26\n",
      "Error: 3.998007\n",
      "Total iters for alpha: 0.001000 batch_size: 25 is 2535\n",
      "Error: 13.379714\n",
      "Total iters for alpha: 0.050000 batch_size: 25 is 123\n",
      "Error: 4.134804\n",
      "Total iters for alpha: 0.010000 batch_size: 25 is 471\n",
      "Error: 4.880014\n",
      "Total iters for alpha: 0.050000 batch_size: 25 is 124\n",
      "Error: 4.124534\n",
      "Total iters for alpha: 0.100000 batch_size: 25 is 62\n",
      "Error: 4.120846\n",
      "Total iters for alpha: 0.300000 batch_size: 25 is 50\n",
      "Error: 3.941131\n"
     ]
    }
   ],
   "source": [
    "batches = [2, 5, 10, 15, 20, 25]\n",
    "for batch in batches:\n",
    "    for alpha in alphas:\n",
    "        w = lms_grad_desc(X, y, max_iter, alpha, mini_batch_update, batch, force_stop=True) "
   ]
  },
  {
   "cell_type": "code",
   "execution_count": 384,
   "metadata": {},
   "outputs": [
    {
     "name": "stdout",
     "output_type": "stream",
     "text": [
      "W: [[-2.05724479  3.95857685 -0.92682852]]\n"
     ]
    }
   ],
   "source": [
    "W_sgd, _ = lms_grad_desc(X, y, 500, 0.05, online_update, 1, silent=True, force_stop=False)\n",
    "print(\"W: %s\" %str(W_sgd))"
   ]
  },
  {
   "cell_type": "markdown",
   "metadata": {},
   "source": [
    "(B) What settings worked well for you:  online vs. batch vs. minibatch? What step size? How did you decide to terminate?"
   ]
  },
  {
   "cell_type": "markdown",
   "metadata": {},
   "source": [
    "From the above experiment it looks like online update performs really well in terms of requiring lesser dataset sweeps to converge to the right W value. Alpha value of 0.05 works best. The results for that config is given below:"
   ]
  },
  {
   "cell_type": "markdown",
   "metadata": {},
   "source": [
    "(C) Make a graph of error on the entire data set as a function of epoch. An epoch is a complete sweep through all the data."
   ]
  },
  {
   "cell_type": "code",
   "execution_count": 413,
   "metadata": {},
   "outputs": [
    {
     "data": {
      "image/png": "[encoded data removed]",
      "text/plain": [
       "<Figure size 432x288 with 1 Axes>"
      ]
     },
     "metadata": {
      "needs_background": "light"
     },
     "output_type": "display_data"
    },
    {
     "data": {
      "image/png": "[encoded data removed]",
      "text/plain": [
       "<Figure size 432x288 with 1 Axes>"
      ]
     },
     "metadata": {
      "needs_background": "light"
     },
     "output_type": "display_data"
    },
    {
     "data": {
      "image/png": "[encoded data removed]",
      "text/plain": [
       "<Figure size 432x288 with 1 Axes>"
      ]
     },
     "metadata": {
      "needs_background": "light"
     },
     "output_type": "display_data"
    }
   ],
   "source": [
    "import matplotlib.pyplot as plt\n",
    "def plot_graph(x_values, y_values, title, y_label='error', x_label = 'Epochs', x_ticks = None):\n",
    "    plt.plot(x_values, y_values)\n",
    "    plt.title(title)\n",
    "    plt.xlabel(x_label)\n",
    "    plt.ylabel(y_label)\n",
    "    if x_ticks != None:\n",
    "        plt.xticks(x_ticks)\n",
    "    plt.show()\n",
    "\n",
    "def plot_part_1_graphs():\n",
    "    alpha = 0.1\n",
    "    epochs = np.arange(501) + 1\n",
    "    for update in updates:\n",
    "#         w, errors_online = lms_grad_desc(X, y, 500, 0.3, online_update, 1, silent=True, force_stop=False)\n",
    "        w, errors_update = lms_grad_desc(X, y, 500, 0.3, update, 1, silent=True, force_stop=False)\n",
    "        plot_graph(epochs, errors_update, \"%s, alpha = %f\" %(update.__name__, alpha))\n",
    "    w, error_batch = lms_grad_desc(X, y, 500, 0.3, mini_batch_update, 16, silent=True, force_stop=False)\n",
    "    plot_graph(epochs, error_batch, \"Mini-batch method batch_size = %d, alpha = %f\" %(16, alpha))\n",
    "plot_part_1_graphs()"
   ]
  },
  {
   "cell_type": "markdown",
   "metadata": {},
   "source": [
    "## Part 3"
   ]
  },
  {
   "cell_type": "markdown",
   "metadata": {},
   "source": [
    "The data set from a regression problem can be converted into a classification problem simply by using the sign of (+ or -) as representing one of two classes. In the data set used in Part 1 and 2, you'll see a variable that represents this binary (0 or 1) class.\n",
    "\n",
    "Use the perceptron learning rule to solve for the coefficients {$w_1$, $w_2$, $b$} of this classification problem.   \n",
    "\n",
    "Two warnings: First, your solution to Part 3 should require only a few lines of code changed from the code you wrote for Part 2. Second, the Perceptron algorithm will not converge if there is no exact solution to the training data. It will jitter among coefficients that all yield roughly equally good solutions."
   ]
  },
  {
   "cell_type": "markdown",
   "metadata": {},
   "source": [
    "Complete the following functions below and use them to answer questions (A) and (B). \n",
    "\n",
    "**Note:** Please do not change the interface of the given functions."
   ]
  },
  {
   "cell_type": "code",
   "execution_count": 402,
   "metadata": {},
   "outputs": [],
   "source": [
    "def perceptron_update(X, y, w, alpha):\n",
    "    \"\"\"\n",
    "    One iteration of the Perceptron update over the entire dataset (not just a single point).\n",
    "    \n",
    "    Parameters\n",
    "    ----------\n",
    "    X : NumPy array of features (size : no of examples X features)\n",
    "    y : Numpy array of class labels (size : no of examples X 1)\n",
    "    w : array of coefficients from the previous iteration\n",
    "    \n",
    "    Returns\n",
    "    -------\n",
    "    w : Coefficients of the classifier (after updating)\n",
    "    incorrect : Incorrectly classified examples\n",
    "    \"\"\"\n",
    "    incorrects = []\n",
    "    n = X.shape[0]\n",
    "    indices = shuffle(range(n))\n",
    "    for index in indices:\n",
    "        xx = X[index, :]\n",
    "        yy = y[index]\n",
    "        if yy*(xx.dot(w.T)) <= 0:\n",
    "                w = w + alpha*yy*xx.reshape((1, -1))\n",
    "                incorrects.append(index)\n",
    "    return w, incorrects\n",
    "\n",
    "def perceptron(X, y, maxIter, alpha):\n",
    "    \"\"\"\n",
    "    Implements the Perceptron algorithm.\n",
    "    \n",
    "    Parameters\n",
    "    ----------\n",
    "    X : NumPy array of features (size : no of examples X features)\n",
    "    y : Numpy array of class labels (size : no of examples X 1)\n",
    "    maxIter : The maximum number of iterations allowed \n",
    "    alpha : Learning Rate\n",
    "    \n",
    "    Returns\n",
    "    -------\n",
    "    w : Coefficients of the classifier\n",
    "    incorrect : Incorrectly classified examples on termination\n",
    "    \"\"\"\n",
    "    n = X.shape[0]\n",
    "    m = X.shape[1]\n",
    "    w = np.zeros((1, m+1)) # include b in W\n",
    "    X_oned = np.hstack((X, np.ones((n,1))))\n",
    "    incorrect_epochs = []\n",
    "    for _ in range(maxIter):\n",
    "        w, incorrects = perceptron_update(X_oned, y, w, alpha)\n",
    "        incorrect_epochs.append(incorrects)\n",
    "#         print(\"incorrect classifications: %d\" % len(incorrects))\n",
    "    return w, (1 - np.array([len(inc) for inc in incorrect_epochs])/n)*100.0"
   ]
  },
  {
   "cell_type": "markdown",
   "metadata": {},
   "source": [
    "(A) Report the values of coefficients $w_1$, $w_2$, and $b$."
   ]
  },
  {
   "cell_type": "code",
   "execution_count": 404,
   "metadata": {
    "scrolled": true
   },
   "outputs": [
    {
     "name": "stdout",
     "output_type": "stream",
     "text": [
      "[[-1.56522  2.39664 -0.3    ]]\n"
     ]
    }
   ],
   "source": [
    "z_per = 2*z - 1\n",
    "w, accuracies = perceptron(X, z_per, 1000, 0.1)\n",
    "print(w)"
   ]
  },
  {
   "cell_type": "markdown",
   "metadata": {},
   "source": [
    "$w_1 = -1.565$\n",
    "\n",
    "$w_2 = 2.388$\n",
    "\n",
    "$b = -0.3$"
   ]
  },
  {
   "cell_type": "markdown",
   "metadata": {},
   "source": [
    "(B) Make a graph of the accuracy (% correct classification) on the training set as a function of epoch."
   ]
  },
  {
   "cell_type": "code",
   "execution_count": 407,
   "metadata": {},
   "outputs": [
    {
     "data": {
      "image/png": "[encoded data removed]",
      "text/plain": [
       "<Figure size 432x288 with 1 Axes>"
      ]
     },
     "metadata": {
      "needs_background": "light"
     },
     "output_type": "display_data"
    }
   ],
   "source": [
    "epochs_perc = np.arange(1000)\n",
    "plot_graph(epochs_perc, accuracies, 'Perceptron, alpha = 0.1', y_label='accuracy %')"
   ]
  },
  {
   "cell_type": "markdown",
   "metadata": {},
   "source": [
    "## Part 4"
   ]
  },
  {
   "cell_type": "markdown",
   "metadata": {},
   "source": [
    "In machine learning, we really want to train a model based on some data and then expect the model to do well on \"out of sample\" data. Try this with the code you wrote for Part 3:  Train the model on the first {5, 10, 25, 50, 75} examples in the data set and test the model on the final 25 examples."
   ]
  },
  {
   "cell_type": "markdown",
   "metadata": {},
   "source": [
    "Complete the following function below and use it to answer (A). \n",
    "\n",
    "**Note:** Please do not change the interface of the given function."
   ]
  },
  {
   "cell_type": "code",
   "execution_count": 409,
   "metadata": {},
   "outputs": [
    {
     "name": "stdout",
     "output_type": "stream",
     "text": [
      "[0.6842105263157895, 0.8333333333333334, 0.9333333333333333, 0.94, 0.92]\n"
     ]
    }
   ],
   "source": [
    "def classify(X, y, w):\n",
    "    \"\"\"\n",
    "    Use this function to classify examples in the test set\n",
    "    \n",
    "    Parameters\n",
    "    ----------\n",
    "    X : Test set features\n",
    "    y : Test set labels\n",
    "    w : Perceptron coefficients\n",
    "    \n",
    "    Returns\n",
    "    -------\n",
    "    correct : number of correctly classified examples\n",
    "    \"\"\"\n",
    "    n = X.shape[0]\n",
    "    X_oned = np.hstack((X, np.ones((n,1))))\n",
    "    return np.sum(np.sign(y*X_oned.dot(w.T)) > 0)\n",
    "\n",
    "train_data_indices = [5, 10, 25, 50, 75]\n",
    "accs = []\n",
    "for tdi in train_data_indices:\n",
    "    x_train = X[:tdi, :]\n",
    "    y_train = z_per[:tdi]\n",
    "    x_test = X[tdi:, :]\n",
    "    y_test = z_per[tdi:]\n",
    "    w, _ = perceptron(x_train, y_train, 500, 0.1)\n",
    "    accs.append(classify(x_test, y_test, w)/x_test.shape[0])\n",
    "print (accs)"
   ]
  },
  {
   "cell_type": "markdown",
   "metadata": {},
   "source": [
    "How does performance on the test set vary with the amount of training data? Make a bar graph showing performance for each of the different training set sizes."
   ]
  },
  {
   "cell_type": "code",
   "execution_count": 416,
   "metadata": {},
   "outputs": [
    {
     "data": {
      "image/png": "[encoded data removed]",
      "text/plain": [
       "<Figure size 432x288 with 1 Axes>"
      ]
     },
     "metadata": {
      "needs_background": "light"
     },
     "output_type": "display_data"
    }
   ],
   "source": [
    "lens = np.arange(len(train_data_indices)) + 1\n",
    "plot_graph(train_data_indices, accs, \"Perceptron train-size 5 to 75, alpha = 0.1\", y_label='accuracy', x_ticks=train_data_indices)"
   ]
  },
  {
   "cell_type": "markdown",
   "metadata": {},
   "source": [
    "# End"
   ]
  },
  {
   "cell_type": "code",
   "execution_count": null,
   "metadata": {},
   "outputs": [],
   "source": []
  }
 ],
 "metadata": {
  "kernelspec": {
   "display_name": "Python 3",
   "language": "python",
   "name": "python3"
  },
  "language_info": {
   "codemirror_mode": {
    "name": "ipython",
    "version": 3
   },
   "file_extension": ".py",
   "mimetype": "text/x-python",
   "name": "python",
   "nbconvert_exporter": "python",
   "pygments_lexer": "ipython3",
   "version": "3.7.1"
  }
 },
 "nbformat": 4,
 "nbformat_minor": 2
}
